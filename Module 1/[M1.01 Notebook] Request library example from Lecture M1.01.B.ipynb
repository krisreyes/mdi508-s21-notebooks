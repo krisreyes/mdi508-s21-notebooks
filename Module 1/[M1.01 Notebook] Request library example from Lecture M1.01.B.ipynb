{
 "cells": [
  {
   "cell_type": "markdown",
   "id": "finished-grill",
   "metadata": {},
   "source": [
    "# MDI 508, 01.B Lecture: Code Example\n",
    "---\n",
    "This example shows how to make a basic `HTTP` request using the `requests` libary.\n"
   ]
  },
  {
   "cell_type": "code",
   "execution_count": null,
   "id": "attractive-individual",
   "metadata": {
    "scrolled": false
   },
   "outputs": [],
   "source": [
    "import requests\n",
    "\n",
    "url = \"https://www.materialsproject.org/rest/v2/materials/Li-Fe-O/vasp\"\n",
    "\n",
    "payload={}\n",
    "headers = {\n",
    "  'X-API-KEY': 'v8ePsSkNCfTib7Kn',\n",
    "}\n",
    "\n",
    "response = requests.request(\"GET\", url, \n",
    "                            headers=headers, \n",
    "                            data=payload)\n",
    "\n",
    "print(response.text)\n",
    "\n"
   ]
  },
  {
   "cell_type": "markdown",
   "id": "disciplinary-cotton",
   "metadata": {},
   "source": [
    "## Save response to a Python dictionary"
   ]
  },
  {
   "cell_type": "code",
   "execution_count": 7,
   "id": "rolled-watch",
   "metadata": {},
   "outputs": [
    {
     "data": {
      "text/plain": [
       "-225.16232302"
      ]
     },
     "execution_count": 7,
     "metadata": {},
     "output_type": "execute_result"
    }
   ],
   "source": [
    "response_dict  = response.json()\n",
    "response_dict['response'][0]['energy']"
   ]
  }
 ],
 "metadata": {
  "kernelspec": {
   "display_name": "Python 3",
   "language": "python",
   "name": "python3"
  },
  "language_info": {
   "codemirror_mode": {
    "name": "ipython",
    "version": 3
   },
   "file_extension": ".py",
   "mimetype": "text/x-python",
   "name": "python",
   "nbconvert_exporter": "python",
   "pygments_lexer": "ipython3",
   "version": "3.8.2"
  }
 },
 "nbformat": 4,
 "nbformat_minor": 5
}
